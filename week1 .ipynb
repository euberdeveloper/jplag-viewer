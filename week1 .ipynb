java.text.SimpleDateFormat;
import java.util.ArrayList;
import java.util.Date;

public class ConcertDetails {

    int[] args;
    int rows;
    int seatsNumLeftCol;
    int seatsNumMidCol;
    int seatsNumRightCol;
    private static ArrayList<Concert> concerts;
    public static ArrayList<Seat> booked = new ArrayList<>();

    public ConcertDetails() {
        concerts = new ArrayList<Concert>();
        args = TicketManagementEngine.arguments;
        rows = args[0];
        seatsNumLeftCol = args[1];
        seatsNumMidCol = args[2];
        seatsNumRightCol = args[3];
    }

    public void addDefaultData() {

//       Define a list of seactionLayout
        SectionLayout[] x = SectionLayout.values();
//        Add a data
        ArrayList<String> section = new ArrayList<>();
        section.add(new String(x[0] + ": AUD 200.0"));
        section.add(new String(x[1] + ": AUD 250.0"));
        section.add(new String(x[2] + ": AUD 500.0"));


//       Seats and section for first concerts
        ArrayList<Seat> seats = new ArrayList<>();
//        Adding data
        seats.add(new Seat(1, 1, 3, 1, true));
        seats.add(new Seat(1, 2, 1, 1, false));

//        Seats and section for first element;
        ArrayList<Seat> seats2 = new ArrayList<>();
//        Adding data
        seats2.add(new Seat(1, 1, 2, 2, true));
        seats2.add(new Seat(1, 2, 3, 2, true));

        int total_seats = args[1] + args[2] + args[3];
        total_seats = total_seats * args[0];

        concerts.add(new Concert(new Date(), "Taylor Swift", "1700-1900", "Melbourne Cricket Ground", total_seats, seats, section));
        concerts.add(new Concert(new Date(), "Taylor Swift", "1900-2100", "Marvel Stadium", total_seats, seats2, section));


    }


    // write some instance variables, constructors, methods to represent concerts details

    public void printConcertDetails() {

        String formatString = "%-5s%-15s%-15s%-15s%-30s%-15s%-15s\n";

        // Calculate the table width
        int tableWidth = String.format(formatString, "", "", "", "", "", "", "").length();

        // Generate the line of dashes
        String dashLine = "-".repeat(tableWidth);

        SimpleDateFormat dateFormat = new SimpleDateFormat("yyyy-MM-dd");
        String year;

        System.out.println("Show Timing");
        // Print the header
        String[] header = {"No.", "Date", "Artist Name", "Timing", "Venue Name", "TotalSeats", "Seats"};
        // Print the line of dashes
        System.out.println(dashLine);
        System.out.printf(formatString, (Object[]) header);
        // Print the line of dashes
        System.out.println(dashLine);

        // Print the data rows


        for (int i = 0; i < concerts.size(); i++) {
            Concert con = concerts.get(i);
            year = dateFormat.format(con.getDate());
            System.out.printf(formatString, (i + 1), year, con.getArtistName(), con.getTiming(), con.getVenueName(), con.getTotalSeats(), con.getBookedSeatsNumber());
        }
        // Print the line of dashes
        System.out.println(dashLine);

    }

    //    show Timing table
    public void showTimings() {
        printConcertDetails();
    }

    //    show concerts price
    public void showConcertPrice(int number) {

        System.out.println("\nSeat Costs\n" +
                "-----------------------\n");
        for (int i = 0; i < 3; i++) {
            System.out.printf(concerts.get(number - 1).getSection().get(i) + "\n");
        }
        System.out.println("-----------------------");
    }

    //    update concerts price
    public void showSeats(int concertId) {

        for (Concert concert : concerts) {
            booked.addAll(concert.getSeats());
        }

        for (int i = 1; i <= rows; i++) {
            System.out.print("[");
            for (int j = 1; j <= seatsNumLeftCol; j++) {
                if (checkBooked(i, 1, j, concertId)) {
                    System.out.print("B");
                } else {
                    System.out.print("_");
                }
            }
            System.out.print(",");
            for (int j = 1; j <= seatsNumMidCol; j++) {
                if (checkBooked(i, 2, j, concertId)) {
                    System.out.print("B");
                } else {
                    System.out.print("_");
                }
            }
            System.out.print(",");
            for (int j = 1; j <= seatsNumRightCol; j++) {
                if (checkBooked(i, 3, j, concertId)) {
                    System.out.print("B");
                } else {
                    System.out.print("_");
                }
            }
            System.out.println("]");
        }
    }

    public static boolean checkBooked(int row, int col, int seatNum, int concertId) {
        boolean isBooked = false;
        for (Seat seat : booked)
            if (seat.getRow() == row && seat.getColumn() == col && seat.getSeatNumber() == seatNum && seat.getConcertId() == concertId && seat.isBooked()) {
                isBooked = true;
                break;
            }
        return isBooked;
    }

    public void bookSeat(int concertID) {

    }


//
//  book seats

//    to see the price for selected seats
//

    // think about how will you manage multiple concerts using this class.
}
